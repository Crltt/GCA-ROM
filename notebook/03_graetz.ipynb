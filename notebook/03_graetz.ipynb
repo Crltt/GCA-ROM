{
  "cells": [
    {
      "cell_type": "code",
      "execution_count": 1,
      "metadata": {
        "id": "rXVVqRjT0CHr"
      },
      "outputs": [],
      "source": [
        "import torch\n",
        "import torch_geometric\n",
        "import sys\n",
        "sys.path.append('/Users/pichi/Documents/gca-rom/')\n",
        "from gca_rom import network, pde, loader, plotting, preprocessing, training, initialization, testing, error, gui\n",
        "import numpy as np\n",
        "from itertools import product"
      ]
    },
    {
      "cell_type": "markdown",
      "metadata": {
        "id": "xrvQWQQD274v"
      },
      "source": [
        "# Define PDE problem"
      ]
    },
    {
      "cell_type": "code",
      "execution_count": 2,
      "metadata": {
        "colab": {
          "base_uri": "https://localhost:8080/"
        },
        "id": "l1sNbNWi2x5J",
        "outputId": "20185899-31d2-4931-a6ef-26ceeb675ad3"
      },
      "outputs": [
        {
          "name": "stdout",
          "output_type": "stream",
          "text": [
            "\n",
            "Problem:  graetz\n",
            "Variable:  U\n",
            "Parameters:  2\n"
          ]
        },
        {
          "ename": "",
          "evalue": "",
          "output_type": "error",
          "traceback": [
            "\u001b[1;31mThe Kernel crashed while executing code in the the current cell or a previous cell. Please review the code in the cell(s) to identify a possible cause of the failure. Click <a href='https://aka.ms/vscodeJupyterKernelCrash'>here</a> for more info. View Jupyter <a href='command:jupyter.viewOutput'>log</a> for further details."
          ]
        }
      ],
      "source": [
        "problem_name, variable, mu_space, n_param = pde.problem(3)\n",
        "print(\"\\nProblem: \", problem_name)\n",
        "print(\"Variable: \", variable)\n",
        "print(\"Parameters: \", n_param)\n",
        "argv = gui.hyperparameters_selection(problem_name, variable, n_param)\n",
        "HyperParams = network.HyperParams(argv)"
      ]
    },
    {
      "cell_type": "markdown",
      "metadata": {
        "id": "PgphDqaw3Dvk"
      },
      "source": [
        "# Initialize device and set reproducibility"
      ]
    },
    {
      "cell_type": "code",
      "execution_count": null,
      "metadata": {
        "colab": {
          "base_uri": "https://localhost:8080/"
        },
        "id": "oLoNgZkI257l",
        "outputId": "bf472013-f651-47ab-a0b4-ee4ec8230c5c"
      },
      "outputs": [],
      "source": [
        "device = initialization.set_device()\n",
        "initialization.set_reproducibility(HyperParams)\n",
        "initialization.set_path(HyperParams)"
      ]
    },
    {
      "cell_type": "markdown",
      "metadata": {
        "id": "NbCmXQ4I3IAv"
      },
      "source": [
        "# Load dataset"
      ]
    },
    {
      "cell_type": "code",
      "execution_count": null,
      "metadata": {
        "colab": {
          "base_uri": "https://localhost:8080/"
        },
        "id": "PgCWJRAm3CuH",
        "outputId": "7e386316-0bae-493c-ac09-18d4e435c18c"
      },
      "outputs": [],
      "source": [
        "dataset_dir = '../dataset/'+problem_name+'_unstructured.mat'\n",
        "dataset = loader.LoadDataset(dataset_dir, variable)\n",
        "\n",
        "graph_loader, train_loader, test_loader, \\\n",
        "    val_loader, scaler_all, scaler_test, xyz, VAR_all, VAR_test, \\\n",
        "        train_trajectories, test_trajectories = preprocessing.graphs_dataset(dataset, HyperParams)\n",
        "\n",
        "xx = xyz[0]\n",
        "yy = xyz[1]\n",
        "\n",
        "params = torch.tensor(np.array(list(product(*mu_space))))\n",
        "params = params.to(device)"
      ]
    },
    {
      "cell_type": "markdown",
      "metadata": {
        "id": "NReTyPBUMzy0"
      },
      "source": [
        "# Define the architecture"
      ]
    },
    {
      "cell_type": "code",
      "execution_count": null,
      "metadata": {
        "id": "lW5gsJNl3K7_"
      },
      "outputs": [],
      "source": [
        "model = network.Net(HyperParams)\n",
        "model = model.to(device)\n",
        "optimizer = torch.optim.Adam(model.parameters(), lr=HyperParams.learning_rate, weight_decay=HyperParams.weight_decay)\n",
        "scheduler = torch.optim.lr_scheduler.MultiStepLR(optimizer, milestones=HyperParams.miles, gamma=HyperParams.gamma)\n",
        "history = dict(train=[], l1=[], l2=[])\n",
        "history_test = dict(test=[], l1=[], l2=[])\n",
        "min_test_loss = np.Inf"
      ]
    },
    {
      "cell_type": "markdown",
      "metadata": {
        "id": "JiFuAmjNM6XN"
      },
      "source": [
        "# Train or load a pre-trained network"
      ]
    },
    {
      "cell_type": "code",
      "execution_count": null,
      "metadata": {
        "colab": {
          "base_uri": "https://localhost:8080/"
        },
        "id": "d8I-ATGM7Igg",
        "outputId": "4c3adcdf-5b2b-4591-e6fb-bbb9bc5a9b0c"
      },
      "outputs": [],
      "source": [
        "try:\n",
        "    model.load_state_dict(torch.load(HyperParams.net_dir+HyperParams.net_name+HyperParams.net_run+'.pt', map_location=torch.device('cpu')))\n",
        "    print('Loading saved network')\n",
        "\n",
        "except FileNotFoundError:\n",
        "    print('Training net')\n",
        "    for epoch in range(HyperParams.max_epochs):\n",
        "        train_rmse = training.train(model, optimizer, device, scheduler, params, train_loader, train_trajectories, HyperParams, history)\n",
        "        if HyperParams.cross_validation:\n",
        "            test_rmse = training.val(model, device, params, test_loader, test_trajectories, HyperParams, history_test)\n",
        "            print(\"Epoch[{}/{}, train_mse loss:{}, test_mse loss:{}\".format(epoch + 1, HyperParams.max_epochs, history['train'][-1], history_test['test'][-1]))\n",
        "        else:\n",
        "            test_rmse = train_rmse\n",
        "            print(\"Epoch[{}/{}, train_mse loss:{}\".format(epoch + 1, HyperParams.max_epochs, history['train'][-1]))\n",
        "        if test_rmse < min_test_loss:\n",
        "            min_test_loss = test_rmse\n",
        "            best_epoch = epoch\n",
        "            torch.save(model.state_dict(), HyperParams.net_dir+HyperParams.net_name+HyperParams.net_run+'.pt')\n",
        "        if HyperParams.tolerance >= train_rmse:\n",
        "            print('Early stopping!')\n",
        "            break\n",
        "        np.save(HyperParams.net_dir+'history'+HyperParams.net_run+'.npy', history)\n",
        "        np.save(HyperParams.net_dir+'history_test'+HyperParams.net_run+'.npy', history_test)\n",
        "\n",
        "    print(\"\\nLoading best network for epoch: \", best_epoch)\n",
        "    model.load_state_dict(torch.load(HyperParams.net_dir+HyperParams.net_name+HyperParams.net_run+'.pt', map_location=torch.device('cpu')))\n",
        "\n"
      ]
    },
    {
      "cell_type": "markdown",
      "metadata": {
        "id": "3hKW8WLhNuJB"
      },
      "source": [
        "# Evaluate the model"
      ]
    },
    {
      "cell_type": "code",
      "execution_count": null,
      "metadata": {
        "colab": {
          "base_uri": "https://localhost:8080/"
        },
        "id": "1Fgnj-NzNxDs",
        "outputId": "09b63329-0e44-4227-98cd-a5651f9fb301"
      },
      "outputs": [],
      "source": [
        "model.to(\"cpu\")\n",
        "params = params.to(\"cpu\")\n",
        "vars = \"GCA-ROM\"\n",
        "results, latents_map, latents_gca = testing.evaluate(VAR_all, model, graph_loader, params, HyperParams, range(params.shape[0]))"
      ]
    },
    {
      "cell_type": "markdown",
      "metadata": {
        "id": "RSJLj7rMN3iE"
      },
      "source": [
        "# Plot the results"
      ]
    },
    {
      "cell_type": "code",
      "execution_count": null,
      "metadata": {
        "colab": {
          "base_uri": "https://localhost:8080/",
          "height": 1000
        },
        "id": "VwIkAWi4NzsF",
        "outputId": "57e0a09c-6406-4e3d-ca8a-41800372a131"
      },
      "outputs": [],
      "source": [
        "plotting.plot_loss(HyperParams)\n",
        "plotting.plot_latent(HyperParams, latents_map, latents_gca)\n",
        "plotting.plot_error(results, VAR_all, scaler_all, HyperParams, mu_space, params, train_trajectories, vars)\n",
        "\n",
        "N = 1\n",
        "snapshots = np.arange(params.shape[0]).tolist()\n",
        "np.random.shuffle(snapshots)\n",
        "for SNAP in snapshots[0:N]:\n",
        "    plotting.plot_fields(SNAP, results, scaler_all, HyperParams, dataset, xyz, params)\n",
        "    plotting.plot_error_fields(SNAP, results, VAR_all, scaler_all, HyperParams, dataset, xyz, params)\n",
        "\n",
        "results_test, _, _ = testing.evaluate(VAR_test, model, val_loader, params, HyperParams, test_trajectories)"
      ]
    },
    {
      "cell_type": "markdown",
      "metadata": {
        "id": "uiaGsslJN8AH"
      },
      "source": [
        "# Print the errors on the testing set"
      ]
    },
    {
      "cell_type": "code",
      "execution_count": null,
      "metadata": {
        "colab": {
          "base_uri": "https://localhost:8080/"
        },
        "id": "R1BkkSEBN7K5",
        "outputId": "26df0103-8633-49d1-e3ba-c80ebd04e3e3"
      },
      "outputs": [],
      "source": [
        "error_abs, norm = error.compute_error(results_test, VAR_test, scaler_test, HyperParams)\n",
        "error.print_error(error_abs, norm, vars)\n",
        "error.save_error(error_abs, norm, HyperParams, vars)"
      ]
    }
  ],
  "metadata": {
    "accelerator": "GPU",
    "colab": {
      "gpuType": "T4",
      "provenance": []
    },
    "kernelspec": {
      "display_name": "Python 3",
      "name": "python3"
    },
    "language_info": {
      "codemirror_mode": {
        "name": "ipython",
        "version": 3
      },
      "file_extension": ".py",
      "mimetype": "text/x-python",
      "name": "python",
      "nbconvert_exporter": "python",
      "pygments_lexer": "ipython3",
      "version": "3.10.8"
    }
  },
  "nbformat": 4,
  "nbformat_minor": 0
}
